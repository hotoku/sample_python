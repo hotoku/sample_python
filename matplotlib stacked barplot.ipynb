{
 "cells": [
  {
   "cell_type": "code",
   "execution_count": 2,
   "metadata": {},
   "outputs": [
    {
     "data": {
      "text/plain": [
       "['/Users/hotoku/sample/python',\n",
       " '/Users/hotoku/anaconda3/envs/misc/lib/python37.zip',\n",
       " '/Users/hotoku/anaconda3/envs/misc/lib/python3.7',\n",
       " '/Users/hotoku/anaconda3/envs/misc/lib/python3.7/lib-dynload',\n",
       " '',\n",
       " '/Users/hotoku/anaconda3/envs/misc/lib/python3.7/site-packages',\n",
       " '/Users/hotoku/anaconda3/envs/misc/lib/python3.7/site-packages/IPython/extensions',\n",
       " '/Users/hotoku/.ipython']"
      ]
     },
     "execution_count": 2,
     "metadata": {},
     "output_type": "execute_result"
    }
   ],
   "source": [
    "import sys\n",
    "sys.path"
   ]
  },
  {
   "cell_type": "code",
   "execution_count": 1,
   "metadata": {},
   "outputs": [],
   "source": [
    "import matplotlib.pyplot as plt\n",
    "import numpy as np\n",
    "import seaborn as sns\n",
    "import pandas as pd"
   ]
  },
  {
   "cell_type": "markdown",
   "metadata": {},
   "source": [
    "データの準備。\n",
    "1. Ageの穴埋め\n",
    "1. Embarkedの穴埋め\n",
    "1. Ageを10歳刻みにする\n",
    "1. Embarkedの水準ごとのAgeRankの人数を数える"
   ]
  },
  {
   "cell_type": "code",
   "execution_count": 2,
   "metadata": {},
   "outputs": [
    {
     "data": {
      "text/html": [
       "<div>\n",
       "<style scoped>\n",
       "    .dataframe tbody tr th:only-of-type {\n",
       "        vertical-align: middle;\n",
       "    }\n",
       "\n",
       "    .dataframe tbody tr th {\n",
       "        vertical-align: top;\n",
       "    }\n",
       "\n",
       "    .dataframe thead th {\n",
       "        text-align: right;\n",
       "    }\n",
       "</style>\n",
       "<table border=\"1\" class=\"dataframe\">\n",
       "  <thead>\n",
       "    <tr style=\"text-align: right;\">\n",
       "      <th></th>\n",
       "      <th>Embarked</th>\n",
       "      <th>AgeRank</th>\n",
       "      <th>count</th>\n",
       "    </tr>\n",
       "  </thead>\n",
       "  <tbody>\n",
       "    <tr>\n",
       "      <td>0</td>\n",
       "      <td>C</td>\n",
       "      <td>0</td>\n",
       "      <td>9</td>\n",
       "    </tr>\n",
       "    <tr>\n",
       "      <td>1</td>\n",
       "      <td>C</td>\n",
       "      <td>1</td>\n",
       "      <td>20</td>\n",
       "    </tr>\n",
       "    <tr>\n",
       "      <td>2</td>\n",
       "      <td>C</td>\n",
       "      <td>2</td>\n",
       "      <td>76</td>\n",
       "    </tr>\n",
       "    <tr>\n",
       "      <td>3</td>\n",
       "      <td>C</td>\n",
       "      <td>3</td>\n",
       "      <td>28</td>\n",
       "    </tr>\n",
       "    <tr>\n",
       "      <td>4</td>\n",
       "      <td>C</td>\n",
       "      <td>4</td>\n",
       "      <td>17</td>\n",
       "    </tr>\n",
       "    <tr>\n",
       "      <td>5</td>\n",
       "      <td>C</td>\n",
       "      <td>5</td>\n",
       "      <td>13</td>\n",
       "    </tr>\n",
       "    <tr>\n",
       "      <td>6</td>\n",
       "      <td>C</td>\n",
       "      <td>6</td>\n",
       "      <td>3</td>\n",
       "    </tr>\n",
       "    <tr>\n",
       "      <td>7</td>\n",
       "      <td>C</td>\n",
       "      <td>7</td>\n",
       "      <td>2</td>\n",
       "    </tr>\n",
       "    <tr>\n",
       "      <td>8</td>\n",
       "      <td>Q</td>\n",
       "      <td>0</td>\n",
       "      <td>4</td>\n",
       "    </tr>\n",
       "    <tr>\n",
       "      <td>9</td>\n",
       "      <td>Q</td>\n",
       "      <td>1</td>\n",
       "      <td>6</td>\n",
       "    </tr>\n",
       "    <tr>\n",
       "      <td>10</td>\n",
       "      <td>Q</td>\n",
       "      <td>2</td>\n",
       "      <td>54</td>\n",
       "    </tr>\n",
       "    <tr>\n",
       "      <td>11</td>\n",
       "      <td>Q</td>\n",
       "      <td>3</td>\n",
       "      <td>7</td>\n",
       "    </tr>\n",
       "    <tr>\n",
       "      <td>12</td>\n",
       "      <td>Q</td>\n",
       "      <td>4</td>\n",
       "      <td>3</td>\n",
       "    </tr>\n",
       "    <tr>\n",
       "      <td>13</td>\n",
       "      <td>Q</td>\n",
       "      <td>5</td>\n",
       "      <td>1</td>\n",
       "    </tr>\n",
       "    <tr>\n",
       "      <td>14</td>\n",
       "      <td>Q</td>\n",
       "      <td>6</td>\n",
       "      <td>1</td>\n",
       "    </tr>\n",
       "    <tr>\n",
       "      <td>15</td>\n",
       "      <td>Q</td>\n",
       "      <td>7</td>\n",
       "      <td>1</td>\n",
       "    </tr>\n",
       "    <tr>\n",
       "      <td>16</td>\n",
       "      <td>S</td>\n",
       "      <td>0</td>\n",
       "      <td>49</td>\n",
       "    </tr>\n",
       "    <tr>\n",
       "      <td>17</td>\n",
       "      <td>S</td>\n",
       "      <td>1</td>\n",
       "      <td>76</td>\n",
       "    </tr>\n",
       "    <tr>\n",
       "      <td>18</td>\n",
       "      <td>S</td>\n",
       "      <td>2</td>\n",
       "      <td>267</td>\n",
       "    </tr>\n",
       "    <tr>\n",
       "      <td>19</td>\n",
       "      <td>S</td>\n",
       "      <td>3</td>\n",
       "      <td>132</td>\n",
       "    </tr>\n",
       "    <tr>\n",
       "      <td>20</td>\n",
       "      <td>S</td>\n",
       "      <td>4</td>\n",
       "      <td>69</td>\n",
       "    </tr>\n",
       "    <tr>\n",
       "      <td>21</td>\n",
       "      <td>S</td>\n",
       "      <td>5</td>\n",
       "      <td>34</td>\n",
       "    </tr>\n",
       "    <tr>\n",
       "      <td>22</td>\n",
       "      <td>S</td>\n",
       "      <td>6</td>\n",
       "      <td>15</td>\n",
       "    </tr>\n",
       "    <tr>\n",
       "      <td>23</td>\n",
       "      <td>S</td>\n",
       "      <td>7</td>\n",
       "      <td>3</td>\n",
       "    </tr>\n",
       "    <tr>\n",
       "      <td>24</td>\n",
       "      <td>S</td>\n",
       "      <td>8</td>\n",
       "      <td>1</td>\n",
       "    </tr>\n",
       "  </tbody>\n",
       "</table>\n",
       "</div>"
      ],
      "text/plain": [
       "   Embarked  AgeRank  count\n",
       "0         C        0      9\n",
       "1         C        1     20\n",
       "2         C        2     76\n",
       "3         C        3     28\n",
       "4         C        4     17\n",
       "5         C        5     13\n",
       "6         C        6      3\n",
       "7         C        7      2\n",
       "8         Q        0      4\n",
       "9         Q        1      6\n",
       "10        Q        2     54\n",
       "11        Q        3      7\n",
       "12        Q        4      3\n",
       "13        Q        5      1\n",
       "14        Q        6      1\n",
       "15        Q        7      1\n",
       "16        S        0     49\n",
       "17        S        1     76\n",
       "18        S        2    267\n",
       "19        S        3    132\n",
       "20        S        4     69\n",
       "21        S        5     34\n",
       "22        S        6     15\n",
       "23        S        7      3\n",
       "24        S        8      1"
      ]
     },
     "execution_count": 2,
     "metadata": {},
     "output_type": "execute_result"
    }
   ],
   "source": [
    "df = pd.read_csv(\"titanic/train.csv\")\n",
    "df.loc[df.Age.isnull(), \"Age\"] = np.mean(df.Age)\n",
    "df.loc[df.Embarked.isnull(), \"Embarked\"] = \"S\"\n",
    "df[\"AgeRank\"] = (df.Age // 10).apply(int)\n",
    "df2 = df.groupby([\"Embarked\", \"AgeRank\"]).size().reset_index(name=\"count\")\n",
    "df2"
   ]
  },
  {
   "cell_type": "markdown",
   "metadata": {},
   "source": [
    "縦持ち・横持ち変換して、NaNを0で埋める"
   ]
  },
  {
   "cell_type": "code",
   "execution_count": 3,
   "metadata": {},
   "outputs": [
    {
     "data": {
      "text/html": [
       "<div>\n",
       "<style scoped>\n",
       "    .dataframe tbody tr th:only-of-type {\n",
       "        vertical-align: middle;\n",
       "    }\n",
       "\n",
       "    .dataframe tbody tr th {\n",
       "        vertical-align: top;\n",
       "    }\n",
       "\n",
       "    .dataframe thead th {\n",
       "        text-align: right;\n",
       "    }\n",
       "</style>\n",
       "<table border=\"1\" class=\"dataframe\">\n",
       "  <thead>\n",
       "    <tr style=\"text-align: right;\">\n",
       "      <th>AgeRank</th>\n",
       "      <th>0</th>\n",
       "      <th>1</th>\n",
       "      <th>2</th>\n",
       "      <th>3</th>\n",
       "      <th>4</th>\n",
       "      <th>5</th>\n",
       "      <th>6</th>\n",
       "      <th>7</th>\n",
       "      <th>8</th>\n",
       "    </tr>\n",
       "    <tr>\n",
       "      <th>Embarked</th>\n",
       "      <th></th>\n",
       "      <th></th>\n",
       "      <th></th>\n",
       "      <th></th>\n",
       "      <th></th>\n",
       "      <th></th>\n",
       "      <th></th>\n",
       "      <th></th>\n",
       "      <th></th>\n",
       "    </tr>\n",
       "  </thead>\n",
       "  <tbody>\n",
       "    <tr>\n",
       "      <td>C</td>\n",
       "      <td>9.0</td>\n",
       "      <td>20.0</td>\n",
       "      <td>76.0</td>\n",
       "      <td>28.0</td>\n",
       "      <td>17.0</td>\n",
       "      <td>13.0</td>\n",
       "      <td>3.0</td>\n",
       "      <td>2.0</td>\n",
       "      <td>0.0</td>\n",
       "    </tr>\n",
       "    <tr>\n",
       "      <td>Q</td>\n",
       "      <td>4.0</td>\n",
       "      <td>6.0</td>\n",
       "      <td>54.0</td>\n",
       "      <td>7.0</td>\n",
       "      <td>3.0</td>\n",
       "      <td>1.0</td>\n",
       "      <td>1.0</td>\n",
       "      <td>1.0</td>\n",
       "      <td>0.0</td>\n",
       "    </tr>\n",
       "    <tr>\n",
       "      <td>S</td>\n",
       "      <td>49.0</td>\n",
       "      <td>76.0</td>\n",
       "      <td>267.0</td>\n",
       "      <td>132.0</td>\n",
       "      <td>69.0</td>\n",
       "      <td>34.0</td>\n",
       "      <td>15.0</td>\n",
       "      <td>3.0</td>\n",
       "      <td>1.0</td>\n",
       "    </tr>\n",
       "  </tbody>\n",
       "</table>\n",
       "</div>"
      ],
      "text/plain": [
       "AgeRank      0     1      2      3     4     5     6    7    8\n",
       "Embarked                                                      \n",
       "C          9.0  20.0   76.0   28.0  17.0  13.0   3.0  2.0  0.0\n",
       "Q          4.0   6.0   54.0    7.0   3.0   1.0   1.0  1.0  0.0\n",
       "S         49.0  76.0  267.0  132.0  69.0  34.0  15.0  3.0  1.0"
      ]
     },
     "execution_count": 3,
     "metadata": {},
     "output_type": "execute_result"
    }
   ],
   "source": [
    "df3 = df2.pivot(index=\"Embarked\", columns=\"AgeRank\", values=\"count\").fillna(0)\n",
    "df3"
   ]
  },
  {
   "cell_type": "markdown",
   "metadata": {},
   "source": [
    "グラフを書く\n",
    "cf. https://matplotlib.org/3.1.1/gallery/lines_bars_and_markers/bar_stacked.html"
   ]
  },
  {
   "cell_type": "code",
   "execution_count": 4,
   "metadata": {},
   "outputs": [
    {
     "data": {
      "text/plain": [
       "<BarContainer object of 3 artists>"
      ]
     },
     "execution_count": 4,
     "metadata": {},
     "output_type": "execute_result"
    },
    {
     "data": {
      "image/png": "[encoded data removed]",
      "text/plain": [
       "<Figure size 432x288 with 1 Axes>"
      ]
     },
     "metadata": {
      "needs_background": "light"
     },
     "output_type": "display_data"
    }
   ],
   "source": [
    "plt.bar(df3.index, df3.loc[:,0])\n",
    "plt.bar(df3.index, df3.loc[:,1], bottom=df3.loc[:,0])\n",
    "plt.bar(df3.index, df3.loc[:,1], bottom=df3.loc[:,0]+df3.loc[:,1])"
   ]
  },
  {
   "cell_type": "markdown",
   "metadata": {},
   "source": [
    "原理的には、上でできることが分かった。\n",
    "bottom引数に与えるために、各行の累積和が必要。"
   ]
  },
  {
   "cell_type": "code",
   "execution_count": 5,
   "metadata": {},
   "outputs": [
    {
     "data": {
      "text/html": [
       "<div>\n",
       "<style scoped>\n",
       "    .dataframe tbody tr th:only-of-type {\n",
       "        vertical-align: middle;\n",
       "    }\n",
       "\n",
       "    .dataframe tbody tr th {\n",
       "        vertical-align: top;\n",
       "    }\n",
       "\n",
       "    .dataframe thead th {\n",
       "        text-align: right;\n",
       "    }\n",
       "</style>\n",
       "<table border=\"1\" class=\"dataframe\">\n",
       "  <thead>\n",
       "    <tr style=\"text-align: right;\">\n",
       "      <th>AgeRank</th>\n",
       "      <th>0</th>\n",
       "      <th>1</th>\n",
       "      <th>2</th>\n",
       "      <th>3</th>\n",
       "      <th>4</th>\n",
       "      <th>5</th>\n",
       "      <th>6</th>\n",
       "      <th>7</th>\n",
       "      <th>8</th>\n",
       "    </tr>\n",
       "    <tr>\n",
       "      <th>Embarked</th>\n",
       "      <th></th>\n",
       "      <th></th>\n",
       "      <th></th>\n",
       "      <th></th>\n",
       "      <th></th>\n",
       "      <th></th>\n",
       "      <th></th>\n",
       "      <th></th>\n",
       "      <th></th>\n",
       "    </tr>\n",
       "  </thead>\n",
       "  <tbody>\n",
       "    <tr>\n",
       "      <td>C</td>\n",
       "      <td>9.0</td>\n",
       "      <td>29.0</td>\n",
       "      <td>105.0</td>\n",
       "      <td>133.0</td>\n",
       "      <td>150.0</td>\n",
       "      <td>163.0</td>\n",
       "      <td>166.0</td>\n",
       "      <td>168.0</td>\n",
       "      <td>168.0</td>\n",
       "    </tr>\n",
       "    <tr>\n",
       "      <td>Q</td>\n",
       "      <td>4.0</td>\n",
       "      <td>10.0</td>\n",
       "      <td>64.0</td>\n",
       "      <td>71.0</td>\n",
       "      <td>74.0</td>\n",
       "      <td>75.0</td>\n",
       "      <td>76.0</td>\n",
       "      <td>77.0</td>\n",
       "      <td>77.0</td>\n",
       "    </tr>\n",
       "    <tr>\n",
       "      <td>S</td>\n",
       "      <td>49.0</td>\n",
       "      <td>125.0</td>\n",
       "      <td>392.0</td>\n",
       "      <td>524.0</td>\n",
       "      <td>593.0</td>\n",
       "      <td>627.0</td>\n",
       "      <td>642.0</td>\n",
       "      <td>645.0</td>\n",
       "      <td>646.0</td>\n",
       "    </tr>\n",
       "  </tbody>\n",
       "</table>\n",
       "</div>"
      ],
      "text/plain": [
       "AgeRank      0      1      2      3      4      5      6      7      8\n",
       "Embarked                                                              \n",
       "C          9.0   29.0  105.0  133.0  150.0  163.0  166.0  168.0  168.0\n",
       "Q          4.0   10.0   64.0   71.0   74.0   75.0   76.0   77.0   77.0\n",
       "S         49.0  125.0  392.0  524.0  593.0  627.0  642.0  645.0  646.0"
      ]
     },
     "execution_count": 5,
     "metadata": {},
     "output_type": "execute_result"
    }
   ],
   "source": [
    "df4 = np.cumsum(df3, axis=1)\n",
    "df4"
   ]
  },
  {
   "cell_type": "markdown",
   "metadata": {},
   "source": [
    "df4の中身を、1列右に移動させる"
   ]
  },
  {
   "cell_type": "code",
   "execution_count": 7,
   "metadata": {},
   "outputs": [
    {
     "data": {
      "text/html": [
       "<div>\n",
       "<style scoped>\n",
       "    .dataframe tbody tr th:only-of-type {\n",
       "        vertical-align: middle;\n",
       "    }\n",
       "\n",
       "    .dataframe tbody tr th {\n",
       "        vertical-align: top;\n",
       "    }\n",
       "\n",
       "    .dataframe thead th {\n",
       "        text-align: right;\n",
       "    }\n",
       "</style>\n",
       "<table border=\"1\" class=\"dataframe\">\n",
       "  <thead>\n",
       "    <tr style=\"text-align: right;\">\n",
       "      <th>AgeRank</th>\n",
       "      <th>0</th>\n",
       "      <th>1</th>\n",
       "      <th>2</th>\n",
       "      <th>3</th>\n",
       "      <th>4</th>\n",
       "      <th>5</th>\n",
       "      <th>6</th>\n",
       "      <th>7</th>\n",
       "      <th>8</th>\n",
       "    </tr>\n",
       "    <tr>\n",
       "      <th>Embarked</th>\n",
       "      <th></th>\n",
       "      <th></th>\n",
       "      <th></th>\n",
       "      <th></th>\n",
       "      <th></th>\n",
       "      <th></th>\n",
       "      <th></th>\n",
       "      <th></th>\n",
       "      <th></th>\n",
       "    </tr>\n",
       "  </thead>\n",
       "  <tbody>\n",
       "    <tr>\n",
       "      <td>C</td>\n",
       "      <td>0.0</td>\n",
       "      <td>9.0</td>\n",
       "      <td>29.0</td>\n",
       "      <td>105.0</td>\n",
       "      <td>133.0</td>\n",
       "      <td>150.0</td>\n",
       "      <td>163.0</td>\n",
       "      <td>166.0</td>\n",
       "      <td>168.0</td>\n",
       "    </tr>\n",
       "    <tr>\n",
       "      <td>Q</td>\n",
       "      <td>0.0</td>\n",
       "      <td>4.0</td>\n",
       "      <td>10.0</td>\n",
       "      <td>64.0</td>\n",
       "      <td>71.0</td>\n",
       "      <td>74.0</td>\n",
       "      <td>75.0</td>\n",
       "      <td>76.0</td>\n",
       "      <td>77.0</td>\n",
       "    </tr>\n",
       "    <tr>\n",
       "      <td>S</td>\n",
       "      <td>0.0</td>\n",
       "      <td>49.0</td>\n",
       "      <td>125.0</td>\n",
       "      <td>392.0</td>\n",
       "      <td>524.0</td>\n",
       "      <td>593.0</td>\n",
       "      <td>627.0</td>\n",
       "      <td>642.0</td>\n",
       "      <td>645.0</td>\n",
       "    </tr>\n",
       "  </tbody>\n",
       "</table>\n",
       "</div>"
      ],
      "text/plain": [
       "AgeRank     0     1      2      3      4      5      6      7      8\n",
       "Embarked                                                            \n",
       "C         0.0   9.0   29.0  105.0  133.0  150.0  163.0  166.0  168.0\n",
       "Q         0.0   4.0   10.0   64.0   71.0   74.0   75.0   76.0   77.0\n",
       "S         0.0  49.0  125.0  392.0  524.0  593.0  627.0  642.0  645.0"
      ]
     },
     "execution_count": 7,
     "metadata": {},
     "output_type": "execute_result"
    }
   ],
   "source": [
    "zeros = pd.Series(np.zeros(len(df4)), index=df4.index)\n",
    "df5 = pd.concat([zeros, df4], axis=1).iloc[:,:-1]\n",
    "df5.columns = df4.columns\n",
    "df5"
   ]
  },
  {
   "cell_type": "code",
   "execution_count": 8,
   "metadata": {},
   "outputs": [
    {
     "data": {
      "image/png": "[encoded data removed]",
      "text/plain": [
       "<Figure size 432x288 with 1 Axes>"
      ]
     },
     "metadata": {
      "needs_background": "light"
     },
     "output_type": "display_data"
    }
   ],
   "source": [
    "for i in df3.columns:\n",
    "    plt.bar(df3.index, df3.loc[:,i], bottom=df5.loc[:,i])"
   ]
  },
  {
   "cell_type": "markdown",
   "metadata": {},
   "source": [
    "とりあえず、図にはできた。凡例はfuture workとする。次は、割合で積み上げグラフを書く"
   ]
  },
  {
   "cell_type": "markdown",
   "metadata": {},
   "source": [
    "行ごとに、各要素の行内での割合を計算"
   ]
  },
  {
   "cell_type": "code",
   "execution_count": 9,
   "metadata": {},
   "outputs": [
    {
     "data": {
      "text/html": [
       "<div>\n",
       "<style scoped>\n",
       "    .dataframe tbody tr th:only-of-type {\n",
       "        vertical-align: middle;\n",
       "    }\n",
       "\n",
       "    .dataframe tbody tr th {\n",
       "        vertical-align: top;\n",
       "    }\n",
       "\n",
       "    .dataframe thead th {\n",
       "        text-align: right;\n",
       "    }\n",
       "</style>\n",
       "<table border=\"1\" class=\"dataframe\">\n",
       "  <thead>\n",
       "    <tr style=\"text-align: right;\">\n",
       "      <th>AgeRank</th>\n",
       "      <th>0</th>\n",
       "      <th>1</th>\n",
       "      <th>2</th>\n",
       "      <th>3</th>\n",
       "      <th>4</th>\n",
       "      <th>5</th>\n",
       "      <th>6</th>\n",
       "      <th>7</th>\n",
       "      <th>8</th>\n",
       "    </tr>\n",
       "    <tr>\n",
       "      <th>Embarked</th>\n",
       "      <th></th>\n",
       "      <th></th>\n",
       "      <th></th>\n",
       "      <th></th>\n",
       "      <th></th>\n",
       "      <th></th>\n",
       "      <th></th>\n",
       "      <th></th>\n",
       "      <th></th>\n",
       "    </tr>\n",
       "  </thead>\n",
       "  <tbody>\n",
       "    <tr>\n",
       "      <td>C</td>\n",
       "      <td>5.357143</td>\n",
       "      <td>11.904762</td>\n",
       "      <td>45.238095</td>\n",
       "      <td>16.666667</td>\n",
       "      <td>10.119048</td>\n",
       "      <td>7.738095</td>\n",
       "      <td>1.785714</td>\n",
       "      <td>1.190476</td>\n",
       "      <td>0.000000</td>\n",
       "    </tr>\n",
       "    <tr>\n",
       "      <td>Q</td>\n",
       "      <td>5.194805</td>\n",
       "      <td>7.792208</td>\n",
       "      <td>70.129870</td>\n",
       "      <td>9.090909</td>\n",
       "      <td>3.896104</td>\n",
       "      <td>1.298701</td>\n",
       "      <td>1.298701</td>\n",
       "      <td>1.298701</td>\n",
       "      <td>0.000000</td>\n",
       "    </tr>\n",
       "    <tr>\n",
       "      <td>S</td>\n",
       "      <td>7.585139</td>\n",
       "      <td>11.764706</td>\n",
       "      <td>41.331269</td>\n",
       "      <td>20.433437</td>\n",
       "      <td>10.681115</td>\n",
       "      <td>5.263158</td>\n",
       "      <td>2.321981</td>\n",
       "      <td>0.464396</td>\n",
       "      <td>0.154799</td>\n",
       "    </tr>\n",
       "  </tbody>\n",
       "</table>\n",
       "</div>"
      ],
      "text/plain": [
       "AgeRank          0          1          2          3          4         5  \\\n",
       "Embarked                                                                   \n",
       "C         5.357143  11.904762  45.238095  16.666667  10.119048  7.738095   \n",
       "Q         5.194805   7.792208  70.129870   9.090909   3.896104  1.298701   \n",
       "S         7.585139  11.764706  41.331269  20.433437  10.681115  5.263158   \n",
       "\n",
       "AgeRank          6         7         8  \n",
       "Embarked                                \n",
       "C         1.785714  1.190476  0.000000  \n",
       "Q         1.298701  1.298701  0.000000  \n",
       "S         2.321981  0.464396  0.154799  "
      ]
     },
     "execution_count": 9,
     "metadata": {},
     "output_type": "execute_result"
    }
   ],
   "source": [
    "sums = df3.apply(sum, axis=1)\n",
    "df6 = df3.copy()\n",
    "for i in range(len(df3)):\n",
    "    df6.iloc[i,:] = df3.iloc[i,:] / sums[i] * 100\n",
    "df6    "
   ]
  },
  {
   "cell_type": "markdown",
   "metadata": {},
   "source": [
    "割合の累積和を計算"
   ]
  },
  {
   "cell_type": "code",
   "execution_count": 10,
   "metadata": {},
   "outputs": [
    {
     "data": {
      "text/html": [
       "<div>\n",
       "<style scoped>\n",
       "    .dataframe tbody tr th:only-of-type {\n",
       "        vertical-align: middle;\n",
       "    }\n",
       "\n",
       "    .dataframe tbody tr th {\n",
       "        vertical-align: top;\n",
       "    }\n",
       "\n",
       "    .dataframe thead th {\n",
       "        text-align: right;\n",
       "    }\n",
       "</style>\n",
       "<table border=\"1\" class=\"dataframe\">\n",
       "  <thead>\n",
       "    <tr style=\"text-align: right;\">\n",
       "      <th>AgeRank</th>\n",
       "      <th>0</th>\n",
       "      <th>1</th>\n",
       "      <th>2</th>\n",
       "      <th>3</th>\n",
       "      <th>4</th>\n",
       "      <th>5</th>\n",
       "      <th>6</th>\n",
       "      <th>7</th>\n",
       "      <th>8</th>\n",
       "    </tr>\n",
       "    <tr>\n",
       "      <th>Embarked</th>\n",
       "      <th></th>\n",
       "      <th></th>\n",
       "      <th></th>\n",
       "      <th></th>\n",
       "      <th></th>\n",
       "      <th></th>\n",
       "      <th></th>\n",
       "      <th></th>\n",
       "      <th></th>\n",
       "    </tr>\n",
       "  </thead>\n",
       "  <tbody>\n",
       "    <tr>\n",
       "      <td>C</td>\n",
       "      <td>5.357143</td>\n",
       "      <td>17.261905</td>\n",
       "      <td>62.500000</td>\n",
       "      <td>79.166667</td>\n",
       "      <td>89.285714</td>\n",
       "      <td>97.023810</td>\n",
       "      <td>98.809524</td>\n",
       "      <td>100.000000</td>\n",
       "      <td>100.0</td>\n",
       "    </tr>\n",
       "    <tr>\n",
       "      <td>Q</td>\n",
       "      <td>5.194805</td>\n",
       "      <td>12.987013</td>\n",
       "      <td>83.116883</td>\n",
       "      <td>92.207792</td>\n",
       "      <td>96.103896</td>\n",
       "      <td>97.402597</td>\n",
       "      <td>98.701299</td>\n",
       "      <td>100.000000</td>\n",
       "      <td>100.0</td>\n",
       "    </tr>\n",
       "    <tr>\n",
       "      <td>S</td>\n",
       "      <td>7.585139</td>\n",
       "      <td>19.349845</td>\n",
       "      <td>60.681115</td>\n",
       "      <td>81.114551</td>\n",
       "      <td>91.795666</td>\n",
       "      <td>97.058824</td>\n",
       "      <td>99.380805</td>\n",
       "      <td>99.845201</td>\n",
       "      <td>100.0</td>\n",
       "    </tr>\n",
       "  </tbody>\n",
       "</table>\n",
       "</div>"
      ],
      "text/plain": [
       "AgeRank          0          1          2          3          4          5  \\\n",
       "Embarked                                                                    \n",
       "C         5.357143  17.261905  62.500000  79.166667  89.285714  97.023810   \n",
       "Q         5.194805  12.987013  83.116883  92.207792  96.103896  97.402597   \n",
       "S         7.585139  19.349845  60.681115  81.114551  91.795666  97.058824   \n",
       "\n",
       "AgeRank           6           7      8  \n",
       "Embarked                                \n",
       "C         98.809524  100.000000  100.0  \n",
       "Q         98.701299  100.000000  100.0  \n",
       "S         99.380805   99.845201  100.0  "
      ]
     },
     "execution_count": 10,
     "metadata": {},
     "output_type": "execute_result"
    }
   ],
   "source": [
    "df7 = np.cumsum(df6, axis=1)\n",
    "df7"
   ]
  },
  {
   "cell_type": "markdown",
   "metadata": {},
   "source": [
    "累積和を一列右にずらして、左に0の列を追加"
   ]
  },
  {
   "cell_type": "code",
   "execution_count": 11,
   "metadata": {},
   "outputs": [
    {
     "data": {
      "text/html": [
       "<div>\n",
       "<style scoped>\n",
       "    .dataframe tbody tr th:only-of-type {\n",
       "        vertical-align: middle;\n",
       "    }\n",
       "\n",
       "    .dataframe tbody tr th {\n",
       "        vertical-align: top;\n",
       "    }\n",
       "\n",
       "    .dataframe thead th {\n",
       "        text-align: right;\n",
       "    }\n",
       "</style>\n",
       "<table border=\"1\" class=\"dataframe\">\n",
       "  <thead>\n",
       "    <tr style=\"text-align: right;\">\n",
       "      <th>AgeRank</th>\n",
       "      <th>0</th>\n",
       "      <th>1</th>\n",
       "      <th>2</th>\n",
       "      <th>3</th>\n",
       "      <th>4</th>\n",
       "      <th>5</th>\n",
       "      <th>6</th>\n",
       "      <th>7</th>\n",
       "      <th>8</th>\n",
       "    </tr>\n",
       "    <tr>\n",
       "      <th>Embarked</th>\n",
       "      <th></th>\n",
       "      <th></th>\n",
       "      <th></th>\n",
       "      <th></th>\n",
       "      <th></th>\n",
       "      <th></th>\n",
       "      <th></th>\n",
       "      <th></th>\n",
       "      <th></th>\n",
       "    </tr>\n",
       "  </thead>\n",
       "  <tbody>\n",
       "    <tr>\n",
       "      <td>C</td>\n",
       "      <td>0.0</td>\n",
       "      <td>5.357143</td>\n",
       "      <td>17.261905</td>\n",
       "      <td>62.500000</td>\n",
       "      <td>79.166667</td>\n",
       "      <td>89.285714</td>\n",
       "      <td>97.023810</td>\n",
       "      <td>98.809524</td>\n",
       "      <td>100.000000</td>\n",
       "    </tr>\n",
       "    <tr>\n",
       "      <td>Q</td>\n",
       "      <td>0.0</td>\n",
       "      <td>5.194805</td>\n",
       "      <td>12.987013</td>\n",
       "      <td>83.116883</td>\n",
       "      <td>92.207792</td>\n",
       "      <td>96.103896</td>\n",
       "      <td>97.402597</td>\n",
       "      <td>98.701299</td>\n",
       "      <td>100.000000</td>\n",
       "    </tr>\n",
       "    <tr>\n",
       "      <td>S</td>\n",
       "      <td>0.0</td>\n",
       "      <td>7.585139</td>\n",
       "      <td>19.349845</td>\n",
       "      <td>60.681115</td>\n",
       "      <td>81.114551</td>\n",
       "      <td>91.795666</td>\n",
       "      <td>97.058824</td>\n",
       "      <td>99.380805</td>\n",
       "      <td>99.845201</td>\n",
       "    </tr>\n",
       "  </tbody>\n",
       "</table>\n",
       "</div>"
      ],
      "text/plain": [
       "AgeRank     0         1          2          3          4          5  \\\n",
       "Embarked                                                              \n",
       "C         0.0  5.357143  17.261905  62.500000  79.166667  89.285714   \n",
       "Q         0.0  5.194805  12.987013  83.116883  92.207792  96.103896   \n",
       "S         0.0  7.585139  19.349845  60.681115  81.114551  91.795666   \n",
       "\n",
       "AgeRank           6          7           8  \n",
       "Embarked                                    \n",
       "C         97.023810  98.809524  100.000000  \n",
       "Q         97.402597  98.701299  100.000000  \n",
       "S         97.058824  99.380805   99.845201  "
      ]
     },
     "execution_count": 11,
     "metadata": {},
     "output_type": "execute_result"
    }
   ],
   "source": [
    "zeros2 = pd.Series(np.zeros(len(df7)), index=df7.index)\n",
    "df8 = pd.concat([zeros2, df7], axis=1).iloc[:,:-1]\n",
    "df8.columns = df7.columns\n",
    "df8"
   ]
  },
  {
   "cell_type": "code",
   "execution_count": 12,
   "metadata": {},
   "outputs": [
    {
     "data": {
      "image/png": "[encoded data removed]",
      "text/plain": [
       "<Figure size 432x288 with 1 Axes>"
      ]
     },
     "metadata": {
      "needs_background": "light"
     },
     "output_type": "display_data"
    }
   ],
   "source": [
    "for i in df6.columns:\n",
    "    plt.bar(df6.index, df6.loc[:,i], bottom=df8.loc[:,i])"
   ]
  },
  {
   "cell_type": "markdown",
   "metadata": {},
   "source": [
    "関数にする"
   ]
  },
  {
   "cell_type": "code",
   "execution_count": null,
   "metadata": {},
   "outputs": [],
   "source": [
    "\n",
    "plt.xticks(ind, ('G1', 'G2', 'G3', 'G4', 'G5'))\n",
    "plt.yticks(np.arange(0, 81, 10))\n",
    "plt.legend((p1[0], p2[0]), ('Men', 'Women'))"
   ]
  },
  {
   "cell_type": "code",
   "execution_count": 38,
   "metadata": {},
   "outputs": [],
   "source": [
    "def percent_in_rows(df):\n",
    "    sums = df.apply(sum, axis=1)\n",
    "    df2 = df.copy()\n",
    "    for i in range(len(df)):\n",
    "        df2.iloc[i,:] = df.iloc[i,:] / sums.iloc[i] * 100\n",
    "    return df2\n",
    "\n",
    "def cumplot_help(df, x, y, category, percent):\n",
    "    df1 = df.loc[:,[x,y,category]]\n",
    "    df2 = df1.pivot(index=x, columns=category, values=y).fillna(0)    \n",
    "    if percent:\n",
    "        df2 = percent_in_rows(df2)        \n",
    "    cum1 = np.cumsum(df2, axis=1)\n",
    "    zeros = pd.Series(np.zeros(len(cum1)), index=cum1.index)\n",
    "    cum2 = pd.concat([zeros, cum1], axis=1).iloc[:,:-1]\n",
    "    cum2.columns = df2.columns\n",
    "    return df2, cum2\n",
    "    \n",
    "def cumplot(df, x, y, category, percent=False):\n",
    "    df2, cum2 = cumplot_help(df, x, y, category, percent)\n",
    "    ps = [None] * len(df2.columns)\n",
    "    for i in range(len(df2.columns)):\n",
    "        ps[i] = plt.bar(df2.index, df2.iloc[:,i], bottom=cum2.iloc[:,i])\n",
    "    plt.legend(map(lambda p: p[0], ps), df2.columns)    \n",
    "\n",
    "def cumploth(df, x, y, category, percent=False):\n",
    "    df2, cum2 = cumplot_help(df, x, y, category, percent)\n",
    "    ps = [None] * len(df2.columns)\n",
    "    for i in range(len(df2.columns)):\n",
    "        ps[i] = plt.barh(df2.index, df2.iloc[:,i], left=cum2.iloc[:,i])\n",
    "    plt.legend(map(lambda p: p[0], ps), df2.columns)    \n"
   ]
  },
  {
   "cell_type": "code",
   "execution_count": 36,
   "metadata": {},
   "outputs": [
    {
     "data": {
      "image/png": "[encoded data removed]",
      "text/plain": [
       "<Figure size 432x288 with 1 Axes>"
      ]
     },
     "metadata": {
      "needs_background": "light"
     },
     "output_type": "display_data"
    }
   ],
   "source": [
    "cumplot(df2, x=\"Embarked\", y=\"count\", category=\"AgeRank\")"
   ]
  },
  {
   "cell_type": "code",
   "execution_count": 37,
   "metadata": {},
   "outputs": [
    {
     "data": {
      "image/png": "[encoded data removed]",
      "text/plain": [
       "<Figure size 432x288 with 1 Axes>"
      ]
     },
     "metadata": {
      "needs_background": "light"
     },
     "output_type": "display_data"
    }
   ],
   "source": [
    "cumplot(df2, x=\"Embarked\", y=\"count\", category=\"AgeRank\", percent=True)"
   ]
  },
  {
   "cell_type": "code",
   "execution_count": 40,
   "metadata": {},
   "outputs": [
    {
     "data": {
      "image/png": "[encoded data removed]",
      "text/plain": [
       "<Figure size 432x288 with 1 Axes>"
      ]
     },
     "metadata": {
      "needs_background": "light"
     },
     "output_type": "display_data"
    }
   ],
   "source": [
    "cumploth(df2, x=\"Embarked\", y=\"count\", category=\"AgeRank\")"
   ]
  },
  {
   "cell_type": "code",
   "execution_count": 41,
   "metadata": {},
   "outputs": [
    {
     "data": {
      "image/png": "[encoded data removed]",
      "text/plain": [
       "<Figure size 432x288 with 1 Axes>"
      ]
     },
     "metadata": {
      "needs_background": "light"
     },
     "output_type": "display_data"
    }
   ],
   "source": [
    "cumploth(df2, x=\"Embarked\", y=\"count\", category=\"AgeRank\", percent=True)"
   ]
  },
  {
   "cell_type": "code",
   "execution_count": null,
   "metadata": {},
   "outputs": [],
   "source": []
  }
 ],
 "metadata": {
  "kernelspec": {
   "display_name": "Python 3",
   "language": "python",
   "name": "python3"
  },
  "language_info": {
   "codemirror_mode": {
    "name": "ipython",
    "version": 3
   },
   "file_extension": ".py",
   "mimetype": "text/x-python",
   "name": "python",
   "nbconvert_exporter": "python",
   "pygments_lexer": "ipython3",
   "version": "3.7.4"
  }
 },
 "nbformat": 4,
 "nbformat_minor": 4
}
